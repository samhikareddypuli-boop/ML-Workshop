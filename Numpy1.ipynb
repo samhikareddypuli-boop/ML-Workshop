{
  "nbformat": 4,
  "nbformat_minor": 0,
  "metadata": {
    "colab": {
      "provenance": []
    },
    "kernelspec": {
      "name": "python3",
      "display_name": "Python 3"
    },
    "language_info": {
      "name": "python"
    }
  },
  "cells": [
    {
      "cell_type": "markdown",
      "source": [
        "Importing numpy python library"
      ],
      "metadata": {
        "id": "BIVttmWy5Yxl"
      }
    },
    {
      "cell_type": "code",
      "execution_count": 1,
      "metadata": {
        "id": "I_94nvBN4v_g"
      },
      "outputs": [],
      "source": [
        "import numpy as np"
      ]
    },
    {
      "cell_type": "code",
      "source": [
        "list1 = [1,2,3,4]\n",
        "arr1 = np.array(list1)\n",
        "print(arr1)"
      ],
      "metadata": {
        "colab": {
          "base_uri": "https://localhost:8080/"
        },
        "id": "Xuag7tfX5hBn",
        "outputId": "f0867092-7008-437e-d2c7-8eeb6107ae78"
      },
      "execution_count": 2,
      "outputs": [
        {
          "output_type": "stream",
          "name": "stdout",
          "text": [
            "[1 2 3 4]\n"
          ]
        }
      ]
    },
    {
      "cell_type": "code",
      "source": [
        "arr2 = np.array([1,2,3,4])\n",
        "print(arr2)"
      ],
      "metadata": {
        "colab": {
          "base_uri": "https://localhost:8080/"
        },
        "id": "J4RSFQZ95xix",
        "outputId": "82b8d8f1-1eb1-4837-87cf-aa661e93ce11"
      },
      "execution_count": 3,
      "outputs": [
        {
          "output_type": "stream",
          "name": "stdout",
          "text": [
            "[1 2 3 4]\n"
          ]
        }
      ]
    },
    {
      "cell_type": "markdown",
      "source": [
        "Creating a 2D numpy array"
      ],
      "metadata": {
        "id": "ma7BQ3X86_lj"
      }
    },
    {
      "cell_type": "code",
      "source": [
        "arr3 = np.array([[1,2,3,4],[5,6,7,8]])\n",
        "print(arr3)"
      ],
      "metadata": {
        "colab": {
          "base_uri": "https://localhost:8080/"
        },
        "id": "-e32Bj1D7GQE",
        "outputId": "ae5b99f8-f2ac-43b4-b9a4-c52462beac09"
      },
      "execution_count": 8,
      "outputs": [
        {
          "output_type": "stream",
          "name": "stdout",
          "text": [
            "[[1 2 3 4]\n",
            " [5 6 7 8]]\n"
          ]
        }
      ]
    },
    {
      "cell_type": "markdown",
      "source": [
        "Creating a 3-D numpy array"
      ],
      "metadata": {
        "id": "KASfdUda70Hj"
      }
    },
    {
      "cell_type": "code",
      "source": [
        "#creating a 3D array with 2 \"slices\", each of 3 rows and 4 columns\n",
        "arr4 = np.array([[[1,2,3,4],[5,6,7,8],[9,10,11,12]],[[4,3,2,1],[8,7,6,5],[12,11,10,9]]])\n",
        "print(arr4)"
      ],
      "metadata": {
        "colab": {
          "base_uri": "https://localhost:8080/"
        },
        "id": "D0VhQrgM7e_c",
        "outputId": "7bdbc3b7-9fdb-4d2e-9132-e08b675d8573"
      },
      "execution_count": 9,
      "outputs": [
        {
          "output_type": "stream",
          "name": "stdout",
          "text": [
            "[[[ 1  2  3  4]\n",
            "  [ 5  6  7  8]\n",
            "  [ 9 10 11 12]]\n",
            "\n",
            " [[ 4  3  2  1]\n",
            "  [ 8  7  6  5]\n",
            "  [12 11 10  9]]]\n"
          ]
        }
      ]
    },
    {
      "cell_type": "markdown",
      "source": [
        "Check the datatype of an array"
      ],
      "metadata": {
        "id": "SWYQYzKL8-1Q"
      }
    },
    {
      "cell_type": "code",
      "source": [
        "arr5 = np.array([1,2,3])\n",
        "print(arr5.dtype)"
      ],
      "metadata": {
        "colab": {
          "base_uri": "https://localhost:8080/"
        },
        "id": "fsBbCv-U9DTx",
        "outputId": "3af0497f-5533-4975-cf0c-cd0273abdc63"
      },
      "execution_count": 10,
      "outputs": [
        {
          "output_type": "stream",
          "name": "stdout",
          "text": [
            "int64\n"
          ]
        }
      ]
    },
    {
      "cell_type": "code",
      "source": [
        "arr6 = np.array([1.5,2.5,3.5])\n",
        "print(arr6.dtype)"
      ],
      "metadata": {
        "colab": {
          "base_uri": "https://localhost:8080/"
        },
        "id": "MVt0v0w4802B",
        "outputId": "387e617c-83a4-4cee-bf91-407d4ef14f92"
      },
      "execution_count": 11,
      "outputs": [
        {
          "output_type": "stream",
          "name": "stdout",
          "text": [
            "float64\n"
          ]
        }
      ]
    },
    {
      "cell_type": "markdown",
      "source": [
        "Check the dimension"
      ],
      "metadata": {
        "id": "JaDjL7GC959U"
      }
    },
    {
      "cell_type": "code",
      "source": [
        "print(arr2.ndim)\n",
        "print(arr3.ndim)\n",
        "print(arr4.ndim)\n",
        "print(arr5.ndim)\n",
        "print(arr6.ndim)"
      ],
      "metadata": {
        "colab": {
          "base_uri": "https://localhost:8080/"
        },
        "id": "ddfDm-RX9X3w",
        "outputId": "3f40ae9d-2444-40ab-843d-d27dd0897e72"
      },
      "execution_count": 16,
      "outputs": [
        {
          "output_type": "stream",
          "name": "stdout",
          "text": [
            "1\n",
            "2\n",
            "3\n",
            "1\n",
            "1\n"
          ]
        }
      ]
    },
    {
      "cell_type": "markdown",
      "source": [
        "Check the size"
      ],
      "metadata": {
        "id": "zrtH6ILa99I7"
      }
    },
    {
      "cell_type": "code",
      "source": [
        "print(arr2.size)\n",
        "print(arr3.size)\n",
        "print(arr4.size)\n",
        "print(arr5.size)\n",
        "print(arr6.size)"
      ],
      "metadata": {
        "colab": {
          "base_uri": "https://localhost:8080/"
        },
        "id": "rjFmry0F9wKC",
        "outputId": "5eb1e959-34c7-498a-b1d7-427ead03743f"
      },
      "execution_count": 17,
      "outputs": [
        {
          "output_type": "stream",
          "name": "stdout",
          "text": [
            "4\n",
            "8\n",
            "24\n",
            "3\n",
            "3\n"
          ]
        }
      ]
    },
    {
      "cell_type": "markdown",
      "source": [
        "Numpy array shape attribute"
      ],
      "metadata": {
        "id": "1EGCAEdH-U7W"
      }
    },
    {
      "cell_type": "code",
      "source": [
        "arr7 = np.array([[1,2,3],[4,5,6]])\n",
        "#returns the tuple of integers that gives size of an array in each dimension\n",
        "print(arr7.shape)\n",
        "print(arr3.shape)\n",
        "print(arr4.shape)\n",
        "print(arr2.shape)"
      ],
      "metadata": {
        "colab": {
          "base_uri": "https://localhost:8080/"
        },
        "id": "QBBdbcKk-JLH",
        "outputId": "2ccc01ab-bdb1-415d-cdda-643653c8c23a"
      },
      "execution_count": 21,
      "outputs": [
        {
          "output_type": "stream",
          "name": "stdout",
          "text": [
            "(2, 3)\n",
            "(2, 4)\n",
            "(2, 3, 4)\n",
            "(4,)\n"
          ]
        }
      ]
    },
    {
      "cell_type": "markdown",
      "source": [
        "Numpy array itemsize attribute"
      ],
      "metadata": {
        "id": "2iLkvjsV_FJS"
      }
    },
    {
      "cell_type": "code",
      "source": [
        "arr8 = np.array([6,7,8,9,10])\n",
        "arr9 = np.array([6,7,8,9,10], dtype=np.int32)\n",
        "print(arr8.itemsize)\n",
        "print(arr9.itemsize)"
      ],
      "metadata": {
        "colab": {
          "base_uri": "https://localhost:8080/"
        },
        "id": "xIwH8D4c_F30",
        "outputId": "c182df0d-692c-425c-e078-5413b512ecaa"
      },
      "execution_count": 24,
      "outputs": [
        {
          "output_type": "stream",
          "name": "stdout",
          "text": [
            "8\n",
            "4\n"
          ]
        }
      ]
    },
    {
      "cell_type": "markdown",
      "source": [
        "Numpy array data attribute"
      ],
      "metadata": {
        "id": "3OZELFxkAL-U"
      }
    },
    {
      "cell_type": "code",
      "source": [
        "array1 = np.array([6,7,8])\n",
        "array2 = np.array([[1,2,3],[4,5,6]])\n",
        "#print memory address' of array1 and array2's data\n",
        "print(\"\\nData of array1 is: \",array1.data)\n",
        "print(\"\\nData of array2 is: \",array2.data)"
      ],
      "metadata": {
        "colab": {
          "base_uri": "https://localhost:8080/"
        },
        "id": "4HK0n8ny_6Ru",
        "outputId": "8b878456-e741-46da-854f-3148d8cb444b"
      },
      "execution_count": 25,
      "outputs": [
        {
          "output_type": "stream",
          "name": "stdout",
          "text": [
            "\n",
            "Data of array1 is:  <memory at 0x782a85f65d80>\n",
            "\n",
            "Data of array2 is:  <memory at 0x782a863ecee0>\n"
          ]
        }
      ]
    },
    {
      "cell_type": "markdown",
      "source": [
        "Access array elements using Index"
      ],
      "metadata": {
        "id": "0JHciVrdA4OT"
      }
    },
    {
      "cell_type": "code",
      "source": [
        "array1 = np.array([1,2,3,4,5])\n",
        "print(array1[-1])\n",
        "print(array1[2])\n",
        "print(array1[4])"
      ],
      "metadata": {
        "colab": {
          "base_uri": "https://localhost:8080/"
        },
        "id": "ukaCp1XqA8XD",
        "outputId": "7e4c9df3-550f-45f0-cccf-6657a09ea684"
      },
      "execution_count": 27,
      "outputs": [
        {
          "output_type": "stream",
          "name": "stdout",
          "text": [
            "5\n",
            "3\n",
            "5\n"
          ]
        }
      ]
    },
    {
      "cell_type": "markdown",
      "source": [
        "Modify array elements using Index"
      ],
      "metadata": {
        "id": "nbNbvBvGBP_X"
      }
    },
    {
      "cell_type": "code",
      "source": [
        "array1[1] = 10\n",
        "print(array1)"
      ],
      "metadata": {
        "colab": {
          "base_uri": "https://localhost:8080/"
        },
        "id": "u4QzrUQCBUUY",
        "outputId": "b41e5792-40b0-48fc-9b5a-33e67e258ecc"
      },
      "execution_count": 29,
      "outputs": [
        {
          "output_type": "stream",
          "name": "stdout",
          "text": [
            "[ 1 10  3  4  5]\n"
          ]
        }
      ]
    }
  ]
}