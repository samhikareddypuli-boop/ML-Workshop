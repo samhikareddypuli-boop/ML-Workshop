{
  "nbformat": 4,
  "nbformat_minor": 0,
  "metadata": {
    "colab": {
      "provenance": []
    },
    "kernelspec": {
      "name": "python3",
      "display_name": "Python 3"
    },
    "language_info": {
      "name": "python"
    }
  },
  "cells": [
    {
      "cell_type": "markdown",
      "source": [
        "Importing numpy python library"
      ],
      "metadata": {
        "id": "BIVttmWy5Yxl"
      }
    },
    {
      "cell_type": "code",
      "execution_count": 25,
      "metadata": {
        "id": "I_94nvBN4v_g"
      },
      "outputs": [],
      "source": [
        "import numpy as np"
      ]
    },
    {
      "cell_type": "code",
      "source": [
        "list1 = [1,2,3,4]\n",
        "arr1 = np.array(list1)\n",
        "print(arr1)"
      ],
      "metadata": {
        "colab": {
          "base_uri": "https://localhost:8080/"
        },
        "id": "Xuag7tfX5hBn",
        "outputId": "6ee83d54-51f9-448f-dc6d-765993aee990"
      },
      "execution_count": 26,
      "outputs": [
        {
          "output_type": "stream",
          "name": "stdout",
          "text": [
            "[1 2 3 4]\n"
          ]
        }
      ]
    },
    {
      "cell_type": "code",
      "source": [
        "arr2 = np.array([1,2,3,4])\n",
        "print(arr2)"
      ],
      "metadata": {
        "colab": {
          "base_uri": "https://localhost:8080/"
        },
        "id": "J4RSFQZ95xix",
        "outputId": "71b79c19-3729-489b-946a-4c5adc3318da"
      },
      "execution_count": 27,
      "outputs": [
        {
          "output_type": "stream",
          "name": "stdout",
          "text": [
            "[1 2 3 4]\n"
          ]
        }
      ]
    },
    {
      "cell_type": "markdown",
      "source": [
        "Creating a 2D numpy array"
      ],
      "metadata": {
        "id": "ma7BQ3X86_lj"
      }
    },
    {
      "cell_type": "code",
      "source": [
        "arr3 = np.array([[1,2,3,4],[5,6,7,8]])\n",
        "print(arr3)"
      ],
      "metadata": {
        "colab": {
          "base_uri": "https://localhost:8080/"
        },
        "id": "-e32Bj1D7GQE",
        "outputId": "b218eabc-ec36-4766-99d3-4b7a070f434f"
      },
      "execution_count": 28,
      "outputs": [
        {
          "output_type": "stream",
          "name": "stdout",
          "text": [
            "[[1 2 3 4]\n",
            " [5 6 7 8]]\n"
          ]
        }
      ]
    },
    {
      "cell_type": "markdown",
      "source": [
        "Creating a 3-D numpy array"
      ],
      "metadata": {
        "id": "KASfdUda70Hj"
      }
    },
    {
      "cell_type": "code",
      "source": [
        "#creating a 3D array with 2 \"slices\", each of 3 rows and 4 columns\n",
        "arr4 = np.array([[[1,2,3,4],[5,6,7,8],[9,10,11,12]],[[4,3,2,1],[8,7,6,5],[12,11,10,9]]])\n",
        "print(arr4)"
      ],
      "metadata": {
        "colab": {
          "base_uri": "https://localhost:8080/"
        },
        "id": "D0VhQrgM7e_c",
        "outputId": "22a2d5f8-3355-4fcd-9db0-e5a2dc1f310b"
      },
      "execution_count": 29,
      "outputs": [
        {
          "output_type": "stream",
          "name": "stdout",
          "text": [
            "[[[ 1  2  3  4]\n",
            "  [ 5  6  7  8]\n",
            "  [ 9 10 11 12]]\n",
            "\n",
            " [[ 4  3  2  1]\n",
            "  [ 8  7  6  5]\n",
            "  [12 11 10  9]]]\n"
          ]
        }
      ]
    },
    {
      "cell_type": "markdown",
      "source": [
        "Check the datatype of an array"
      ],
      "metadata": {
        "id": "SWYQYzKL8-1Q"
      }
    },
    {
      "cell_type": "code",
      "source": [
        "arr5 = np.array([1,2,3])\n",
        "print(arr5.dtype)"
      ],
      "metadata": {
        "colab": {
          "base_uri": "https://localhost:8080/"
        },
        "id": "fsBbCv-U9DTx",
        "outputId": "9379e1f9-32a6-4812-e8ce-f151e8f592e7"
      },
      "execution_count": 30,
      "outputs": [
        {
          "output_type": "stream",
          "name": "stdout",
          "text": [
            "int64\n"
          ]
        }
      ]
    },
    {
      "cell_type": "code",
      "source": [
        "arr6 = np.array([1.5,2.5,3.5])\n",
        "print(arr6.dtype)"
      ],
      "metadata": {
        "colab": {
          "base_uri": "https://localhost:8080/"
        },
        "id": "MVt0v0w4802B",
        "outputId": "a90e29aa-c969-4331-d367-d55df44f5d35"
      },
      "execution_count": 31,
      "outputs": [
        {
          "output_type": "stream",
          "name": "stdout",
          "text": [
            "float64\n"
          ]
        }
      ]
    },
    {
      "cell_type": "markdown",
      "source": [
        "Check the dimension"
      ],
      "metadata": {
        "id": "JaDjL7GC959U"
      }
    },
    {
      "cell_type": "code",
      "source": [
        "print(arr2.ndim)\n",
        "print(arr3.ndim)\n",
        "print(arr4.ndim)\n",
        "print(arr5.ndim)\n",
        "print(arr6.ndim)"
      ],
      "metadata": {
        "colab": {
          "base_uri": "https://localhost:8080/"
        },
        "id": "ddfDm-RX9X3w",
        "outputId": "df96b6f5-a64f-4f56-8276-a0bfe381abd2"
      },
      "execution_count": 32,
      "outputs": [
        {
          "output_type": "stream",
          "name": "stdout",
          "text": [
            "1\n",
            "2\n",
            "3\n",
            "1\n",
            "1\n"
          ]
        }
      ]
    },
    {
      "cell_type": "markdown",
      "source": [
        "Check the size"
      ],
      "metadata": {
        "id": "zrtH6ILa99I7"
      }
    },
    {
      "cell_type": "code",
      "source": [
        "print(arr2.size)\n",
        "print(arr3.size)\n",
        "print(arr4.size)\n",
        "print(arr5.size)\n",
        "print(arr6.size)"
      ],
      "metadata": {
        "colab": {
          "base_uri": "https://localhost:8080/"
        },
        "id": "rjFmry0F9wKC",
        "outputId": "cbd19c2f-e245-4a6a-9005-aa6d046ad95e"
      },
      "execution_count": 33,
      "outputs": [
        {
          "output_type": "stream",
          "name": "stdout",
          "text": [
            "4\n",
            "8\n",
            "24\n",
            "3\n",
            "3\n"
          ]
        }
      ]
    },
    {
      "cell_type": "markdown",
      "source": [
        "Numpy array shape attribute"
      ],
      "metadata": {
        "id": "1EGCAEdH-U7W"
      }
    },
    {
      "cell_type": "code",
      "source": [
        "arr7 = np.array([[1,2,3],[4,5,6]])\n",
        "#returns the tuple of integers that gives size of an array in each dimension\n",
        "print(arr7.shape)\n",
        "print(arr3.shape)\n",
        "print(arr4.shape)\n",
        "print(arr2.shape)"
      ],
      "metadata": {
        "colab": {
          "base_uri": "https://localhost:8080/"
        },
        "id": "QBBdbcKk-JLH",
        "outputId": "1f7147d0-97f7-4810-c012-ddb6a43e4b0e"
      },
      "execution_count": 34,
      "outputs": [
        {
          "output_type": "stream",
          "name": "stdout",
          "text": [
            "(2, 3)\n",
            "(2, 4)\n",
            "(2, 3, 4)\n",
            "(4,)\n"
          ]
        }
      ]
    },
    {
      "cell_type": "markdown",
      "source": [
        "Numpy array itemsize attribute"
      ],
      "metadata": {
        "id": "2iLkvjsV_FJS"
      }
    },
    {
      "cell_type": "code",
      "source": [
        "arr8 = np.array([6,7,8,9,10])\n",
        "arr9 = np.array([6,7,8,9,10], dtype=np.int32)\n",
        "print(arr8.itemsize)\n",
        "print(arr9.itemsize)"
      ],
      "metadata": {
        "colab": {
          "base_uri": "https://localhost:8080/"
        },
        "id": "xIwH8D4c_F30",
        "outputId": "52b3becf-8dd8-4c55-bc04-894ef5f71cdb"
      },
      "execution_count": 35,
      "outputs": [
        {
          "output_type": "stream",
          "name": "stdout",
          "text": [
            "8\n",
            "4\n"
          ]
        }
      ]
    },
    {
      "cell_type": "markdown",
      "source": [
        "Numpy array data attribute"
      ],
      "metadata": {
        "id": "3OZELFxkAL-U"
      }
    },
    {
      "cell_type": "code",
      "source": [
        "array1 = np.array([6,7,8])\n",
        "array2 = np.array([[1,2,3],[4,5,6]])\n",
        "#print memory address' of array1 and array2's data\n",
        "print(\"\\nData of array1 is: \",array1.data)\n",
        "print(\"\\nData of array2 is: \",array2.data)"
      ],
      "metadata": {
        "colab": {
          "base_uri": "https://localhost:8080/"
        },
        "id": "4HK0n8ny_6Ru",
        "outputId": "a2685296-b0ca-4d7d-9252-650b1c465a60"
      },
      "execution_count": 36,
      "outputs": [
        {
          "output_type": "stream",
          "name": "stdout",
          "text": [
            "\n",
            "Data of array1 is:  <memory at 0x7d1fb14799c0>\n",
            "\n",
            "Data of array2 is:  <memory at 0x7d1fa0bd1cb0>\n"
          ]
        }
      ]
    },
    {
      "cell_type": "markdown",
      "source": [
        "Access array elements using Index"
      ],
      "metadata": {
        "id": "0JHciVrdA4OT"
      }
    },
    {
      "cell_type": "code",
      "source": [
        "array1 = np.array([1,2,3,4,5])\n",
        "print(array1[-1])\n",
        "print(array1[2])\n",
        "print(array1[4])"
      ],
      "metadata": {
        "colab": {
          "base_uri": "https://localhost:8080/"
        },
        "id": "ukaCp1XqA8XD",
        "outputId": "4ffc0822-d18b-4c82-ee08-d77e557df6d3"
      },
      "execution_count": 37,
      "outputs": [
        {
          "output_type": "stream",
          "name": "stdout",
          "text": [
            "5\n",
            "3\n",
            "5\n"
          ]
        }
      ]
    },
    {
      "cell_type": "markdown",
      "source": [
        "Modify array elements using Index"
      ],
      "metadata": {
        "id": "nbNbvBvGBP_X"
      }
    },
    {
      "cell_type": "code",
      "source": [
        "array1[1] = 10\n",
        "print(array1)"
      ],
      "metadata": {
        "colab": {
          "base_uri": "https://localhost:8080/"
        },
        "id": "u4QzrUQCBUUY",
        "outputId": "d764fdfc-b3fb-4afa-b67f-198b089d7fe2"
      },
      "execution_count": 38,
      "outputs": [
        {
          "output_type": "stream",
          "name": "stdout",
          "text": [
            "[ 1 10  3  4  5]\n"
          ]
        }
      ]
    },
    {
      "cell_type": "markdown",
      "source": [
        "Numpy statistical functions"
      ],
      "metadata": {
        "id": "QB3omLY0vvTT"
      }
    },
    {
      "cell_type": "code",
      "source": [
        "marks = np.array([79,76,88,90,95])\n",
        "mean_marks = np.mean(marks)\n",
        "print(mean_marks)"
      ],
      "metadata": {
        "colab": {
          "base_uri": "https://localhost:8080/"
        },
        "id": "2JBDNlOavy5V",
        "outputId": "573aa09f-ae45-462a-e272-f2419ac9ef46"
      },
      "execution_count": 39,
      "outputs": [
        {
          "output_type": "stream",
          "name": "stdout",
          "text": [
            "85.6\n"
          ]
        }
      ]
    },
    {
      "cell_type": "code",
      "source": [
        "marks = np.array([79,76,88,90,95])\n",
        "median = np.median(marks)\n",
        "print(median)"
      ],
      "metadata": {
        "colab": {
          "base_uri": "https://localhost:8080/"
        },
        "id": "tgNyjSiQxXDG",
        "outputId": "3a413445-6c27-474f-d44a-507fbf347f2f"
      },
      "execution_count": 40,
      "outputs": [
        {
          "output_type": "stream",
          "name": "stdout",
          "text": [
            "88.0\n"
          ]
        }
      ]
    },
    {
      "cell_type": "code",
      "source": [
        "marks = np.array([79,76,88,90,95])\n",
        "std = np.std(marks)\n",
        "print(std)"
      ],
      "metadata": {
        "colab": {
          "base_uri": "https://localhost:8080/"
        },
        "id": "220f1nUSxnLO",
        "outputId": "88d90560-8b9f-49c1-e6f9-5d80abd2db88"
      },
      "execution_count": 41,
      "outputs": [
        {
          "output_type": "stream",
          "name": "stdout",
          "text": [
            "7.059745037889116\n"
          ]
        }
      ]
    },
    {
      "cell_type": "code",
      "source": [
        "marks = np.array([79,76,88,90,95])\n",
        "std_marks = np.percentile(marks,80)\n",
        "print(std_marks)"
      ],
      "metadata": {
        "colab": {
          "base_uri": "https://localhost:8080/"
        },
        "id": "08BL3Qw-xplh",
        "outputId": "f892ebf1-f8f7-40f2-97d6-6358c1111a3a"
      },
      "execution_count": 42,
      "outputs": [
        {
          "output_type": "stream",
          "name": "stdout",
          "text": [
            "91.0\n"
          ]
        }
      ]
    },
    {
      "cell_type": "code",
      "source": [
        "marks = np.array([79,76,88,90,95])\n",
        "std_marks = np.min(marks)\n",
        "print(std_marks)"
      ],
      "metadata": {
        "colab": {
          "base_uri": "https://localhost:8080/"
        },
        "id": "CCbdDRlHz3K0",
        "outputId": "d1b1d611-5263-44d9-e2b2-ae6a7d2d74b4"
      },
      "execution_count": 43,
      "outputs": [
        {
          "output_type": "stream",
          "name": "stdout",
          "text": [
            "76\n"
          ]
        }
      ]
    },
    {
      "cell_type": "code",
      "source": [
        "marks = np.array([79,76,88,90,95])\n",
        "std_marks = np.max(marks)\n",
        "print(std_marks)"
      ],
      "metadata": {
        "colab": {
          "base_uri": "https://localhost:8080/"
        },
        "id": "NQ9LmdrU0Cup",
        "outputId": "39a873f5-db5f-4044-8dd5-7bba302dc94a"
      },
      "execution_count": 44,
      "outputs": [
        {
          "output_type": "stream",
          "name": "stdout",
          "text": [
            "95\n"
          ]
        }
      ]
    },
    {
      "cell_type": "code",
      "source": [
        "arr = np.array([[1,2,3],[4,5,6]])\n",
        "print(arr.nbytes)"
      ],
      "metadata": {
        "colab": {
          "base_uri": "https://localhost:8080/"
        },
        "id": "kHE5C99i0GMZ",
        "outputId": "4ffeb888-dea1-4f7b-c6a5-0c91cdcb1031"
      },
      "execution_count": 45,
      "outputs": [
        {
          "output_type": "stream",
          "name": "stdout",
          "text": [
            "48\n"
          ]
        }
      ]
    },
    {
      "cell_type": "code",
      "source": [
        "arr1 = np.array([1,2,3])\n",
        "print(arr1.nbytes)"
      ],
      "metadata": {
        "colab": {
          "base_uri": "https://localhost:8080/"
        },
        "id": "1xd7newu1CCL",
        "outputId": "8437df99-41bb-4dcf-a448-add638c1f1be"
      },
      "execution_count": 46,
      "outputs": [
        {
          "output_type": "stream",
          "name": "stdout",
          "text": [
            "24\n"
          ]
        }
      ]
    },
    {
      "cell_type": "code",
      "source": [
        "arr = np.array([[1,2,3],[4,5,6],[7,8,9]])\n",
        "print(arr.nbytes)"
      ],
      "metadata": {
        "colab": {
          "base_uri": "https://localhost:8080/"
        },
        "id": "Md-iI7_x1JVH",
        "outputId": "631486ea-8b23-497c-af1a-549dab1e6004"
      },
      "execution_count": 47,
      "outputs": [
        {
          "output_type": "stream",
          "name": "stdout",
          "text": [
            "72\n"
          ]
        }
      ]
    },
    {
      "cell_type": "code",
      "source": [],
      "metadata": {
        "id": "hfpSoIXJ1YtU"
      },
      "execution_count": null,
      "outputs": []
    }
  ]
}